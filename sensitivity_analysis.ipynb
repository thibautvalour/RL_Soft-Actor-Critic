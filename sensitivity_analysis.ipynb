{
 "cells": [
  {
   "cell_type": "code",
   "execution_count": 1,
   "metadata": {},
   "outputs": [],
   "source": [
    "import os\n",
    "\n",
    "max_size_buffer = 1_000_000 # 10_000\n",
    "gamma = 0.99 # 1, 0.9 \n",
    "tau = 0.005 # 1, 0.1\n",
    "alpha = 5 # 0.1, 10\n",
    "two_critics = True #False\n",
    "remove_stochasticity = False #True\n",
    "dim = 256 # 64, 512\n",
    "task = \"HopperBulletEnv-v0\"\n",
    "\n",
    "cmd = \"python3 main.py {} {} {} {} {} {} {} {} {}\""
   ]
  },
  {
   "cell_type": "code",
   "execution_count": 2,
   "metadata": {},
   "outputs": [
    {
     "name": "stdout",
     "output_type": "stream",
     "text": [
      "python3 main.py 1000000 0.99 0.005 5 True False 256 baseline HopperBulletEnv-v0\n"
     ]
    }
   ],
   "source": [
    "name_simulation = \"baseline\"\n",
    "# os.system(\n",
    "print(\n",
    "    cmd.format(max_size_buffer, gamma, tau, alpha, two_critics, remove_stochasticity, dim, name_simulation, task)\n",
    "    )"
   ]
  },
  {
   "cell_type": "code",
   "execution_count": null,
   "metadata": {},
   "outputs": [],
   "source": [
    "# name_simulation = \"larger_gamma\"\n",
    "# os.system(\n",
    "#     cmd.format(max_size_buffer, 1, tau, alpha, two_critics, remove_stochasticity, dim, name_simulation, task)\n",
    "#     )"
   ]
  },
  {
   "cell_type": "code",
   "execution_count": null,
   "metadata": {},
   "outputs": [],
   "source": [
    "# name_simulation = \"smaller_gamma\"\n",
    "# os.system(\n",
    "#     cmd.format(max_size_buffer, 0.9, tau, alpha, two_critics, remove_stochasticity, dim, name_simulation, task)\n",
    "#     )"
   ]
  },
  {
   "cell_type": "code",
   "execution_count": null,
   "metadata": {},
   "outputs": [],
   "source": [
    "# name_simulation = \"larger_tau\"\n",
    "# os.system(\n",
    "#     cmd.format(max_size_buffer, gamma, 1, alpha, two_critics, remove_stochasticity, dim, name_simulation, task)\n",
    "#     )"
   ]
  },
  {
   "cell_type": "code",
   "execution_count": null,
   "metadata": {},
   "outputs": [],
   "source": [
    "# name_simulation = \"smaller_tau\"\n",
    "# os.system(\n",
    "#     cmd.format(max_size_buffer, gamma, 0.1, alpha, two_critics, remove_stochasticity, dim, name_simulation, task)\n",
    "#     )"
   ]
  },
  {
   "cell_type": "code",
   "execution_count": 3,
   "metadata": {},
   "outputs": [
    {
     "name": "stdout",
     "output_type": "stream",
     "text": [
      "python3 main.py 1000000 0.99 0.005 0.1 True False 256 smaller_alpha HopperBulletEnv-v0\n"
     ]
    }
   ],
   "source": [
    "name_simulation = \"smaller_alpha\"\n",
    "# os.system(\n",
    "print(\n",
    "    cmd.format(max_size_buffer, gamma, tau, 0.1, two_critics, remove_stochasticity, dim, name_simulation, task)\n",
    "    )"
   ]
  },
  {
   "cell_type": "code",
   "execution_count": 4,
   "metadata": {},
   "outputs": [
    {
     "name": "stdout",
     "output_type": "stream",
     "text": [
      "python3 main.py 1000000 0.99 0.005 10 True False 256 larger_alpha HopperBulletEnv-v0\n"
     ]
    }
   ],
   "source": [
    "name_simulation = \"larger_alpha\"\n",
    "# os.system(\n",
    "print(\n",
    "    cmd.format(max_size_buffer, gamma, tau, 10, two_critics, remove_stochasticity, dim, name_simulation, task)\n",
    "    )"
   ]
  },
  {
   "cell_type": "code",
   "execution_count": null,
   "metadata": {},
   "outputs": [],
   "source": [
    "# name_simulation = \"single_critic\"\n",
    "# os.system(\n",
    "#     cmd.format(max_size_buffer, gamma, tau, alpha, False, remove_stochasticity, dim, name_simulation, task)\n",
    "#     )"
   ]
  },
  {
   "cell_type": "code",
   "execution_count": null,
   "metadata": {},
   "outputs": [],
   "source": [
    "name_simulation = \"non_stochastic\"\n",
    "os.system(\n",
    "    cmd.format(max_size_buffer, gamma, tau, alpha, two_critics, False, dim, name_simulation, task)\n",
    "    )"
   ]
  },
  {
   "cell_type": "code",
   "execution_count": null,
   "metadata": {},
   "outputs": [],
   "source": [
    "#TO RUN\n",
    "\n",
    "name_simulation = \"smaller_buffer\"\n",
    "os.system(\n",
    "    cmd.format(10_000, gamma, tau, alpha, two_critics, remove_stochasticity, dim, name_simulation, task)\n",
    "    )"
   ]
  },
  {
   "cell_type": "code",
   "execution_count": null,
   "metadata": {},
   "outputs": [],
   "source": [
    "name_simulation = \"smaller_dim\"\n",
    "os.system(\n",
    "    cmd.format(max_size_buffer, gamma, tau, alpha, two_critics, remove_stochasticity, 64, name_simulation, task)\n",
    "    )"
   ]
  },
  {
   "cell_type": "code",
   "execution_count": null,
   "metadata": {},
   "outputs": [],
   "source": [
    "name_simulation = \"larger_dim\"\n",
    "os.system(\n",
    "    cmd.format(max_size_buffer, gamma, tau, alpha, two_critics, remove_stochasticity, 512, name_simulation, task)\n",
    "    )"
   ]
  },
  {
   "cell_type": "code",
   "execution_count": null,
   "metadata": {},
   "outputs": [],
   "source": [
    "task = \"Walker2DBulletEnv-v0\"\n",
    "os.system(\n",
    "    cmd.format(max_size_buffer, gamma, tau, alpha, two_critics, remove_stochasticity, dim, task, task)\n",
    "    )"
   ]
  },
  {
   "cell_type": "code",
   "execution_count": null,
   "metadata": {},
   "outputs": [],
   "source": [
    "task = \"HalfCheetahBulletEnv-v0\"\n",
    "os.system(\n",
    "    cmd.format(max_size_buffer, gamma, tau, alpha, two_critics, remove_stochasticity, dim, task, task)\n",
    "    )"
   ]
  },
  {
   "cell_type": "code",
   "execution_count": null,
   "metadata": {},
   "outputs": [],
   "source": [
    "task = \"AntBulletEnv-v0\"\n",
    "os.system(\n",
    "    cmd.format(max_size_buffer, gamma, tau, alpha, two_critics, remove_stochasticity, dim, task, task)\n",
    "    )"
   ]
  },
  {
   "cell_type": "code",
   "execution_count": null,
   "metadata": {},
   "outputs": [],
   "source": [
    "task = \"HumanoidBulletEnv-v0\"\n",
    "os.system(\n",
    "    cmd.format(max_size_buffer, gamma, tau, alpha, two_critics, remove_stochasticity, dim, task, task)\n",
    "    )"
   ]
  }
 ],
 "metadata": {
  "kernelspec": {
   "display_name": "rl",
   "language": "python",
   "name": "python3"
  },
  "language_info": {
   "codemirror_mode": {
    "name": "ipython",
    "version": 3
   },
   "file_extension": ".py",
   "mimetype": "text/x-python",
   "name": "python",
   "nbconvert_exporter": "python",
   "pygments_lexer": "ipython3",
   "version": "3.9.12"
  },
  "orig_nbformat": 4,
  "vscode": {
   "interpreter": {
    "hash": "e4eb328afeac44f135c20198bbe58c8e2d985a75ef6d15f86b30930fd06454f7"
   }
  }
 },
 "nbformat": 4,
 "nbformat_minor": 2
}
